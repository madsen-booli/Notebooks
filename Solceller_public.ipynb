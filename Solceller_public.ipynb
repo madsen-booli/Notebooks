{
 "cells": [
  {
   "cell_type": "markdown",
   "metadata": {},
   "source": [
    "## Hur påverkar solceller priset på en bostad?\n",
    "Vi undersöker vilken prispåverkan solceller har på ett hus genom att se hur mycket felet i Boolis statistiska värdering skiljer sig mellan hus med solceller och hus utan solceller.\n",
    "\n",
    "Våra datakällor är Boolis databas med information om bostäder, värderingar och tillhörande annonstexter. \n",
    "\n",
    "Vi börjar med att läsa in datan som består av alla försäljningar med tillhörande statistiska värderingar i Sverige mellan 2016-06-01 och 2019-06-01."
   ]
  },
  {
   "cell_type": "code",
   "execution_count": 1,
   "metadata": {},
   "outputs": [
    {
     "data": {
      "text/plain": [
       "'Antal försäljningar: 247672'"
      ]
     },
     "metadata": {},
     "output_type": "display_data"
    }
   ],
   "source": [
    "import pandas as pd\n",
    "import numpy as np\n",
    "estimations = pd.read_csv('/Users/madsen/Desktop/Varderingsdata/knn_all_ot_77104_20160601-20190601.csv')\n",
    "estimations = estimations[estimations['objectType'].isin(('Villa', 'Radhus', 'Parhus', 'Kedjehus'))]\n",
    "display(\"Antal försäljningar: {}\".format(estimations['booliId'].count()))\n"
   ]
  },
  {
   "cell_type": "markdown",
   "metadata": {},
   "source": [
    "Sedan läser vi in alla försäljningar där vi har tillgång till försäljningsannonsens objektsbeskrivning  "
   ]
  },
  {
   "cell_type": "code",
   "execution_count": 2,
   "metadata": {},
   "outputs": [
    {
     "data": {
      "text/plain": [
       "'Antal objektsbeskrivningar: 97575'"
      ]
     },
     "metadata": {},
     "output_type": "display_data"
    }
   ],
   "source": [
    "descriptions = pd.read_csv('/Users/madsen/Desktop/HACK/Solceller/descriptions.csv')\n",
    "display(\"Antal objektsbeskrivningar: {}\".format(descriptions['booliId'].count()))"
   ]
  },
  {
   "cell_type": "markdown",
   "metadata": {},
   "source": [
    "Som vi kan se så har vi inte tillgång till alla objektsbeskrivningar vilket gör att vi förlorar ungefär $\\frac{3}{5}$ av datan."
   ]
  },
  {
   "cell_type": "markdown",
   "metadata": {},
   "source": [
    "För att ta reda på om de sålda objekten har haft solceller så genomför vi en enkel regex-sökning i objektsbeskrivningar där vi söker efter \"solcell\" och \"solpanel\"."
   ]
  },
  {
   "cell_type": "code",
   "execution_count": 3,
   "metadata": {
    "scrolled": true
   },
   "outputs": [
    {
     "data": {
      "text/plain": [
       "'Antal objektsbeskrivningar utan nyckelord (solcell/solpanel): 97341'"
      ]
     },
     "metadata": {},
     "output_type": "display_data"
    },
    {
     "data": {
      "text/plain": [
       "'Antal objektsbeskrivningar med nyckelord (solcell/solpanel): 234'"
      ]
     },
     "metadata": {},
     "output_type": "display_data"
    },
    {
     "data": {
      "text/plain": [
       "'Andel av objektsbeskrivningar med nyckelord (solcell/solpanel): 0.24039202391592443%'"
      ]
     },
     "metadata": {},
     "output_type": "display_data"
    }
   ],
   "source": [
    "import re\n",
    "descriptions['cell_panel'] = descriptions.description.str.findall(r'solcell|solpanel', flags=re.IGNORECASE).apply(len) > 0\n",
    "matched = descriptions.cell_panel.value_counts()\n",
    "display(\"Antal objektsbeskrivningar utan nyckelord (solcell/solpanel): {}\".format(matched[0]))\n",
    "display(\"Antal objektsbeskrivningar med nyckelord (solcell/solpanel): {}\".format(matched[1]))\n",
    "display(\"Andel av objektsbeskrivningar med nyckelord (solcell/solpanel): {}%\".format(matched[1] / matched[0] * 100))\n"
   ]
  },
  {
   "cell_type": "markdown",
   "metadata": {},
   "source": [
    "Vid en enklare visuell inspektion upptäcks endel tvivelaktigheter i förekomsten av nyckelordet solpanel.\n",
    "Det visar sig att solpanel i stor utsträckning används för att benämna solfångare för uppvärmning av vatten. Ofta även i samband med förekomsten av bergvärme. Vid genomgången upptäcktes även fall då det var tydligt att solpanelen syftade till en solcellsanläggning. Exempel på beskrivande mening var \"Solpaneler på tak för egenproducerad el\" etc. \n",
    "Vi beslutar oss för att ta bort solpanel som nyckelord i regex-filtreringen men behåller ändå de 8 observationer där solpanelen syftade till en solcellsanläggning. "
   ]
  },
  {
   "cell_type": "code",
   "execution_count": 4,
   "metadata": {
    "scrolled": true
   },
   "outputs": [],
   "source": [
    "import re\n",
    "descriptions['solceller'] = descriptions.description.str.findall(r'solcell', flags=re.IGNORECASE).apply(len) > 0\n",
    "\n",
    "descriptions.at[descriptions.booliId == 1503326, 'solceller'] = True\n",
    "descriptions.at[descriptions.booliId == 1798044, 'solceller'] = True\n",
    "descriptions.at[descriptions.booliId == 3157509, 'solceller'] = True\n",
    "descriptions.at[descriptions.booliId == 3217586, 'solceller'] = True\n",
    "descriptions.at[descriptions.booliId == 3316352, 'solceller'] = True\n",
    "descriptions.at[descriptions.booliId == 3323391, 'solceller'] = True\n",
    "descriptions.at[descriptions.booliId == 3363937, 'solceller'] = True\n",
    "descriptions.at[descriptions.booliId == 3582106, 'solceller'] = True\n",
    "\n",
    "#pd.set_option('display.max_colwidth', -1)\n",
    "#pd.set_option('display.max_rows', None)\n",
    "#display(descriptions[descriptions.solceller == True])\n"
   ]
  },
  {
   "cell_type": "markdown",
   "metadata": {},
   "source": [
    "Eftersom underlaget är relativt litet beslutar vi oss för att göra en manuell genomgång av alla nyckelordsmatchade annonser. Även ordet solcell är i många fall missförstått och används för att beskriva en solfångare. Vi tar bort alla annonser där det tydligt framgår att det är ett syftningsfel. För varje borttagen annons finns ett citat som styrker detta.  "
   ]
  },
  {
   "cell_type": "code",
   "execution_count": 5,
   "metadata": {},
   "outputs": [],
   "source": [
    "descriptions.at[descriptions.booliId == 666366, 'solceller'] = False # \"Bergvärme Eviheat -06 med kopplingar för solceller.\"\n",
    "descriptions.at[descriptions.booliId == 800854, 'solceller'] = False # \"Poolen värms upp med solceller\"\n",
    "descriptions.at[descriptions.booliId == 1045951, 'solceller'] = False # \"Vattenburen uppvärmning - briketter, solceller och luftvärmepump\"\n",
    "descriptions.at[descriptions.booliId == 1166141, 'solceller'] = False # \"samt solceller på taket för poolen\"\n",
    "descriptions.at[descriptions.booliId == 1205770, 'solceller'] = False # \"solceller för uppvärmning av poolen\"\n",
    "descriptions.at[descriptions.booliId == 1902299, 'solceller'] = False # \"Kamin samt solceller. Ingen el finns.\"\n",
    "descriptions.at[descriptions.booliId == 2149835, 'solceller'] = False # \"Belysning drivs med solceller.\"\n",
    "descriptions.at[descriptions.booliId == 2397467, 'solceller'] = False # \"uppvärmd pool via solceller.\"\n",
    "\n",
    "descriptions.at[descriptions.booliId == 2407445, 'solceller'] = False # \"Värmeanläggningen kan kompletteras med ett solcellspaket\"\n",
    "descriptions.at[descriptions.booliId == 3025817, 'solceller'] = False # \"Solceller på tak för uppvärmning av vatten\"\n",
    "descriptions.at[descriptions.booliId == 3159962, 'solceller'] = False # \"Poolen värms upp av solceller\"\n",
    "descriptions.at[descriptions.booliId == 3185378, 'solceller'] = False # \"solcellspanel för belysning och mobilladdning.\"\n",
    "descriptions.at[descriptions.booliId == 3190055, 'solceller'] = False # \"utedusch drivna på solceller.\"\n",
    "descriptions.at[descriptions.booliId == 3191495, 'solceller'] = False # \"uppvärmning med vattenburengolvvärme och radiatorer allt via jordvärmepump och solceller\"\n",
    "descriptions.at[descriptions.booliId == 3225626, 'solceller'] = False # \"uppvärmning med solceller,\"\n",
    "descriptions.at[descriptions.booliId == 3249590, 'solceller'] = False # \"solceller för att exempelvis ladda mobiler\"\n",
    "\n",
    "descriptions.at[descriptions.booliId == 3268614, 'solceller'] = False # \"ABB som storsatsar med solceller \"\n",
    "descriptions.at[descriptions.booliId == 3369155, 'solceller'] = False # \"Solcellsel för belysning\"\n",
    "descriptions.at[descriptions.booliId == 3378223, 'solceller'] = False # \"Solcellspaneler för uppvärmning \"\n",
    "descriptions.at[descriptions.booliId == 3414821, 'solceller'] = False # \"solpotential för solceller\"\n",
    "descriptions.at[descriptions.booliId == 3433052, 'solceller'] = False # \"solcellsuppvärmd pool\"\n",
    "descriptions.at[descriptions.booliId == 3434746, 'solceller'] = False # \"Solceller finns men är ej installerade och dessa ingår vid husköpet.\"\n",
    "descriptions.at[descriptions.booliId == 3435931, 'solceller'] = False # \"12V el med solceller och batterier\"\n",
    "descriptions.at[descriptions.booliId == 3452162, 'solceller'] = False # \"värms upp med dels solceller\"\n",
    "\n",
    "descriptions.at[descriptions.booliId == 3463096, 'solceller'] = False # \"Garagetak lämplig för solceller. \"\n",
    "descriptions.at[descriptions.booliId == 3529323, 'solceller'] = False # \"solceller för uppvärmning\"\n",
    "descriptions.at[descriptions.booliId == 3561484, 'solceller'] = False # \"uppvärmningsmöjligheter såsom luftvärmepump, solceller och kaminv\"\n",
    "descriptions.at[descriptions.booliId == 3582997, 'solceller'] = False # \"lägenheten\"\n",
    "descriptions.at[descriptions.booliId == 3612605, 'solceller'] = False # \"bostadsrättsparhus\"\n",
    "descriptions.at[descriptions.booliId == 3613601, 'solceller'] = False # \"rätta förutsättningarna för installation av solceller\"\n",
    "descriptions.at[descriptions.booliId == 3645361, 'solceller'] = False # \"föreningen investerat i solceller\"\n"
   ]
  },
  {
   "cell_type": "code",
   "execution_count": 6,
   "metadata": {},
   "outputs": [
    {
     "data": {
      "text/plain": [
       "'Antal objektsbeskrivningar utan nyckelord (solcell): 97471'"
      ]
     },
     "metadata": {},
     "output_type": "display_data"
    },
    {
     "data": {
      "text/plain": [
       "'Antal objektsbeskrivningar med nyckelord (solcell): 104'"
      ]
     },
     "metadata": {},
     "output_type": "display_data"
    },
    {
     "data": {
      "text/plain": [
       "'Andel av objektsbeskrivningar med nyckelord (solcell): 0.1066984026017995%'"
      ]
     },
     "metadata": {},
     "output_type": "display_data"
    }
   ],
   "source": [
    "matched_sol = descriptions.solceller.value_counts()\n",
    "display(\"Antal objektsbeskrivningar utan nyckelord (solcell): {}\".format(matched_sol[0]))\n",
    "display(\"Antal objektsbeskrivningar med nyckelord (solcell): {}\".format(matched_sol[1]))\n",
    "display(\"Andel av objektsbeskrivningar med nyckelord (solcell): {}%\".format(matched_sol[1] / matched_sol[0] * 100))"
   ]
  },
  {
   "cell_type": "markdown",
   "metadata": {},
   "source": [
    "Efter den manuella inspektionen av annonsbeskrivningarna återstår 104 observationer vilket motsvarar ca 0.11 % av alla annonsbeskrivningar. \n",
    "Enligt Energimyndigheten https://www.energimyndigheten.se/nyhetsarkiv/2019/ett-ar-senare---10-000-fler-natanslutna-solcellsanlaggningar/ så fanns det ungefär 25 500 installerade solcellsanläggningar i Sverige vid slutet av 2018, varav 84 % var mindre anläggningar lämpliga för villatak etc. Ett rimligt antagande är att det i genomsnitt, under den aktuella perioden för denna analys, fanns ca 20 000 solcellsanläggningar. Enligt Boverket https://www.boverket.se/sv/samhallsplanering/bostadsmarknad/bostadsbestandet/ fanns det ungefär 2 miljoner småhus i Sverige vid slutet av 2018. Sammantaget innebär det att ca 1 % av alla småhus har en installerad solcellsanläggning.  Vilket då innebär att vi som minst har, via regex-filtreringen, lyckats urskilja ca $\\frac{0.11}{1} = 11$ % av alla försäljningar. Det finns alltså möjlighet att förbättra analysen om vi lyckas få en bättre täckningsgrad på datan.    "
   ]
  },
  {
   "cell_type": "markdown",
   "metadata": {},
   "source": [
    "Vi genomför en regex-filtrering på annonser innehållande ordet \"Bergvärme\" eftersom bergvärme i många fall även finns installerat i de hus som har solceller. På så sätt kan vi skilja dessa hus åt och skapa grupper för hus med solceller respektive hus med solceller och bergvärme."
   ]
  },
  {
   "cell_type": "code",
   "execution_count": 7,
   "metadata": {},
   "outputs": [
    {
     "data": {
      "text/plain": [
       "'Antal objektsbeskrivningar med nyckelord (Bergvärme): 7006'"
      ]
     },
     "metadata": {},
     "output_type": "display_data"
    }
   ],
   "source": [
    "descriptions['bergvarme'] = descriptions.description.str.findall(r'bergvärme', flags=re.IGNORECASE).apply(len) > 0\n",
    "matched_berg = descriptions.bergvarme.value_counts()\n",
    "display(\"Antal objektsbeskrivningar med nyckelord (Bergvärme): {}\".format(matched_berg[1]))"
   ]
  },
  {
   "cell_type": "markdown",
   "metadata": {},
   "source": [
    "Vi fortsätter analysen genom att göra en grundläggande outlierfiltrering på försäljningspris och värderingsfel."
   ]
  },
  {
   "cell_type": "code",
   "execution_count": 8,
   "metadata": {},
   "outputs": [],
   "source": [
    "# Remove outliers based on soldPrice and estimation error\n",
    "filtered = estimations\n",
    "quantiles = filtered['soldPrice'].quantile([0.01, 0.99])\n",
    "filtered = filtered[(filtered['soldPrice'] >= quantiles[0.01]) &\n",
    "                    (filtered['soldPrice'] <= quantiles[0.99])]\n",
    "quantiles = filtered['error_percent'].quantile([0.05, 0.95])\n",
    "filtered = filtered[(filtered['error_percent'] >= quantiles[0.05]) &\n",
    "                    (filtered['error_percent'] <= quantiles[0.95])]\n"
   ]
  },
  {
   "cell_type": "markdown",
   "metadata": {},
   "source": [
    "Nu matchar vi de regex-filtrerade annonsbeskrivningarna med de outlierfiltrerade slutpriserna.  "
   ]
  },
  {
   "cell_type": "code",
   "execution_count": 9,
   "metadata": {},
   "outputs": [
    {
     "data": {
      "text/plain": [
       "'Antal objektsbeskrivningar med nyckelord (solcell) innan filtrering: 40'"
      ]
     },
     "metadata": {},
     "output_type": "display_data"
    },
    {
     "data": {
      "text/plain": [
       "'Antal objektsbeskrivningar med nyckelord (solcell) efter filtrering: 37'"
      ]
     },
     "metadata": {},
     "output_type": "display_data"
    },
    {
     "data": {
      "text/plain": [
       "'Antal objektsbeskrivningar med nyckelord (solcell och bergvärme) efter filtrering: 5'"
      ]
     },
     "metadata": {},
     "output_type": "display_data"
    },
    {
     "data": {
      "text/plain": [
       "'Andel objektsbeskrivningar med nyckelord (solcell och bergvärme): 13.513513513513514 %'"
      ]
     },
     "metadata": {},
     "output_type": "display_data"
    }
   ],
   "source": [
    "filtered = pd.merge(filtered, descriptions, on='booliId')\n",
    "\n",
    "matched_filtered = filtered.solceller.value_counts()\n",
    "estimations['solcell'] = estimations.booliId.isin(descriptions[descriptions.solceller == True].booliId).astype(np.int8)\n",
    "matched_non_filtered = estimations.solcell.value_counts()\n",
    "filtered['sol_berg'] = filtered.booliId.isin(filtered[(filtered.solceller == True) & (filtered.bergvarme == True)].booliId).astype(np.int8)\n",
    "\n",
    "matched_sol_berg = filtered.sol_berg.value_counts()\n",
    "filtered['sol_not_berg'] = filtered.booliId.isin(descriptions[(descriptions.bergvarme == False) & (descriptions.solceller == True)].booliId).astype(np.int8)\n",
    "display(\"Antal objektsbeskrivningar med nyckelord (solcell) innan filtrering: {}\".format(matched_non_filtered[1]))\n",
    "display(\"Antal objektsbeskrivningar med nyckelord (solcell) efter filtrering: {}\".format(matched_filtered[1]))\n",
    "display(\"Antal objektsbeskrivningar med nyckelord (solcell och bergvärme) efter filtrering: {}\".format(matched_sol_berg[1]))\n",
    "display(\"Andel objektsbeskrivningar med nyckelord (solcell och bergvärme): {} %\".format(matched_sol_berg[1] / matched_filtered[1] * 100))\n"
   ]
  },
  {
   "cell_type": "markdown",
   "metadata": {},
   "source": [
    "Det ger oss 37 småhusförsäljningar i Sverige mellan 2016-06-01 och 2019-06-01 som kan antas ha installerade solcellsanläggningar. Som vi kan se så är det ungefär $\\frac{37}{135} \\approx \\frac{1}{4}$ av alla annonstexter som matchas med ett slutpris, vilket till stor del beror på att annonsbeskrivningarna tillhörde försäljningar gjorda innan 2016-06-01. Vi kan också se att i 14 % av annonserna som innehöll solceller också innehåller bergvärme.  "
   ]
  },
  {
   "cell_type": "markdown",
   "metadata": {},
   "source": [
    "## Analys"
   ]
  },
  {
   "cell_type": "markdown",
   "metadata": {},
   "source": [
    "### Varierar felfördelningarna mellan de som har solceller och de som inte har?"
   ]
  },
  {
   "cell_type": "code",
   "execution_count": 10,
   "metadata": {},
   "outputs": [
    {
     "data": {
      "text/plain": [
       "'Har solceller = False'"
      ]
     },
     "metadata": {},
     "output_type": "display_data"
    },
    {
     "name": "stdout",
     "output_type": "stream",
     "text": [
      "Median error: -1.1620689655172416 %\n",
      "count    27627.000000\n",
      "mean         0.007641\n",
      "std          0.203850\n",
      "min         -0.407329\n",
      "25%         -0.122618\n",
      "50%         -0.011621\n",
      "75%          0.108990\n",
      "max          0.818769\n",
      "Name: error_percent, dtype: float64\n"
     ]
    },
    {
     "data": {
      "text/plain": [
       "'Har solceller = True'"
      ]
     },
     "metadata": {},
     "output_type": "display_data"
    },
    {
     "name": "stdout",
     "output_type": "stream",
     "text": [
      "Median error: -8.349165217391304 %\n",
      "count    37.000000\n",
      "mean     -0.047035\n",
      "std       0.167430\n",
      "min      -0.321181\n",
      "25%      -0.131989\n",
      "50%      -0.083492\n",
      "75%       0.025670\n",
      "max       0.612122\n",
      "Name: error_percent, dtype: float64\n"
     ]
    },
    {
     "data": {
      "image/png": "[encoded data removed]",
      "text/plain": [
       "<Figure size 1152x288 with 2 Axes>"
      ]
     },
     "metadata": {
      "needs_background": "light"
     },
     "output_type": "display_data"
    }
   ],
   "source": [
    "import matplotlib.pyplot as plt\n",
    "f = plt.figure(figsize=(16,4))\n",
    "f.subplots_adjust(hspace=0.4, wspace=0.4)\n",
    "\n",
    "for i, label in enumerate(filtered['solceller'].unique()):\n",
    "    df = filtered[filtered['solceller'] == label]\n",
    "    ax = f.add_subplot(1, 2, i+1)\n",
    "    ax.set_title(\"Har solceller = {} [Antal]\".format(label))\n",
    "    df['error_percent'].hist(bins=20)\n",
    "    display(\"Har solceller = {}\".format(label))\n",
    "    print(\"Median error: {} %\".format(df['error_percent'].median() * 100))\n",
    "    print(df['error_percent'].describe())"
   ]
  },
  {
   "cell_type": "markdown",
   "metadata": {},
   "source": [
    "Eftersom vi tittar på samtliga småhus i hela landet får vi, trots vår outlierfiltrering, ganska långa svansar med stora värderingsfel. Upp mot 80 % övervärdering eller 40 % undervärdering i värsta fallen. Fördelningen för värderingsfelet gällande hus utan solceller är log-normal och centrerad kring 0 % med ett medelvärde på 0.8%, och en standardavvikelsen på ca 20 %, vilket innebär att 2/3 av alla värderingar hamnar inom 23 % från rätt försäljningspris. Vi kan antyda att fördelningen av värderingsfelen för hus med solceller är log-normal med en förskjuten centrering runt -0.1. Den har ett medelvärde på - 4.7 % och en standardavvikelsen på ca 17 %. "
   ]
  },
  {
   "cell_type": "code",
   "execution_count": 11,
   "metadata": {},
   "outputs": [
    {
     "name": "stdout",
     "output_type": "stream",
     "text": [
      "Median error: -8.349165217391304 %\n",
      "count    5.000000\n",
      "mean    -0.096823\n",
      "std      0.067289\n",
      "min     -0.163929\n",
      "25%     -0.161533\n",
      "50%     -0.083492\n",
      "75%     -0.070923\n",
      "max     -0.004238\n",
      "Name: error_percent, dtype: float64\n"
     ]
    },
    {
     "data": {
      "image/png": "[encoded data removed]",
      "text/plain": [
       "<Figure size 432x288 with 1 Axes>"
      ]
     },
     "metadata": {
      "needs_background": "light"
     },
     "output_type": "display_data"
    }
   ],
   "source": [
    "df = filtered[filtered['sol_berg'] == True]\n",
    "print(\"Median error: {} %\".format(df['error_percent'].median() * 100))\n",
    "df['error_percent'].hist(bins=5)\n",
    "print(df['error_percent'].describe())"
   ]
  },
  {
   "cell_type": "markdown",
   "metadata": {},
   "source": [
    "Om vi tittar på de annonser som innehöll både solcell och bergvärme så får vi ett medelvärde på -9.7 %."
   ]
  },
  {
   "cell_type": "code",
   "execution_count": 12,
   "metadata": {},
   "outputs": [
    {
     "name": "stdout",
     "output_type": "stream",
     "text": [
      "Median error: -5.756755905511811 %\n",
      "count    1819.000000\n",
      "mean       -0.040044\n",
      "std         0.194613\n",
      "min        -0.406733\n",
      "25%        -0.178757\n",
      "50%        -0.057568\n",
      "75%         0.069393\n",
      "max         0.802347\n",
      "Name: error_percent, dtype: float64\n"
     ]
    },
    {
     "data": {
      "image/png": "[encoded data removed]",
      "text/plain": [
       "<Figure size 432x288 with 1 Axes>"
      ]
     },
     "metadata": {
      "needs_background": "light"
     },
     "output_type": "display_data"
    }
   ],
   "source": [
    "df = filtered[filtered['bergvarme'] == True]\n",
    "print(\"Median error: {} %\".format(df['error_percent'].median() * 100))\n",
    "df['error_percent'].hist(bins=30)\n",
    "print(df['error_percent'].describe())"
   ]
  },
  {
   "cell_type": "markdown",
   "metadata": {},
   "source": [
    "När vi tittar på fördelningen för värderingsfelet för de annonstexter som innehöll bergvärme så ser vi ser vi ett medelvärde på -4 %."
   ]
  },
  {
   "cell_type": "markdown",
   "metadata": {},
   "source": [
    "### Är det vanligare med solceller för vissa prisklasser eller storleksklasser?"
   ]
  },
  {
   "cell_type": "code",
   "execution_count": 13,
   "metadata": {},
   "outputs": [
    {
     "data": {
      "text/plain": [
       "solceller           1.000000\n",
       "soldPrice           0.014430\n",
       "estimatedPrice      0.010244\n",
       "plotArea            0.014078\n",
       "livingArea          0.009250\n",
       "additionalArea      0.002497\n",
       "rooms               0.011296\n",
       "constructionYear    0.010394\n",
       "bergvarme           0.010244\n",
       "Name: solceller, dtype: float64"
      ]
     },
     "metadata": {},
     "output_type": "display_data"
    }
   ],
   "source": [
    "pearson_corr = filtered[[\n",
    "    'solceller',\n",
    "    'soldPrice',\n",
    "    'estimatedPrice',\n",
    "    'plotArea',\n",
    "    'livingArea',\n",
    "    'additionalArea',\n",
    "    'rooms',\n",
    "    'constructionYear',\n",
    "    'bergvarme',\n",
    "]].corr(method='pearson')\n",
    "\n",
    "display(pearson_corr['solceller'])"
   ]
  },
  {
   "cell_type": "markdown",
   "metadata": {},
   "source": [
    "Vi kan tydligt se att de flesta attribut har en låg och jämt fördelad korrelation till förekomsten av solceller."
   ]
  },
  {
   "cell_type": "markdown",
   "metadata": {},
   "source": [
    "## Resultat"
   ]
  },
  {
   "cell_type": "markdown",
   "metadata": {},
   "source": [
    "I tabellerna som följer så innebär negativa siffror att vi undervärderar. Första tabellen anger värderingsfelet för hus med solceller, om vi inte tar hänsyn till förekomsten av bergvärme. "
   ]
  },
  {
   "cell_type": "code",
   "execution_count": 14,
   "metadata": {
    "scrolled": true
   },
   "outputs": [
    {
     "data": {
      "text/html": [
       "<div>\n",
       "<style scoped>\n",
       "    .dataframe tbody tr th:only-of-type {\n",
       "        vertical-align: middle;\n",
       "    }\n",
       "\n",
       "    .dataframe tbody tr th {\n",
       "        vertical-align: top;\n",
       "    }\n",
       "\n",
       "    .dataframe thead th {\n",
       "        text-align: right;\n",
       "    }\n",
       "</style>\n",
       "<table border=\"1\" class=\"dataframe\">\n",
       "  <thead>\n",
       "    <tr style=\"text-align: right;\">\n",
       "      <th></th>\n",
       "      <th>Antal</th>\n",
       "      <th>Medianfel_SEK</th>\n",
       "      <th>Medelfel_SEK</th>\n",
       "      <th>Medianfel_procent</th>\n",
       "      <th>Medelfel_procent</th>\n",
       "    </tr>\n",
       "    <tr>\n",
       "      <th>solceller</th>\n",
       "      <th></th>\n",
       "      <th></th>\n",
       "      <th></th>\n",
       "      <th></th>\n",
       "      <th></th>\n",
       "    </tr>\n",
       "  </thead>\n",
       "  <tbody>\n",
       "    <tr>\n",
       "      <th>False</th>\n",
       "      <td>27627.0</td>\n",
       "      <td>-30066.0</td>\n",
       "      <td>-57149.866906</td>\n",
       "      <td>-0.011621</td>\n",
       "      <td>0.007641</td>\n",
       "    </tr>\n",
       "    <tr>\n",
       "      <th>True</th>\n",
       "      <td>37.0</td>\n",
       "      <td>-355315.0</td>\n",
       "      <td>-325141.621622</td>\n",
       "      <td>-0.083492</td>\n",
       "      <td>-0.047035</td>\n",
       "    </tr>\n",
       "  </tbody>\n",
       "</table>\n",
       "</div>"
      ],
      "text/plain": [
       "             Antal  Medianfel_SEK   Medelfel_SEK  Medianfel_procent  \\\n",
       "solceller                                                             \n",
       "False      27627.0       -30066.0  -57149.866906          -0.011621   \n",
       "True          37.0      -355315.0 -325141.621622          -0.083492   \n",
       "\n",
       "           Medelfel_procent  \n",
       "solceller                    \n",
       "False              0.007641  \n",
       "True              -0.047035  "
      ]
     },
     "execution_count": 14,
     "metadata": {},
     "output_type": "execute_result"
    }
   ],
   "source": [
    "filtered.groupby('solceller').agg(\n",
    "    Antal=('error', len),\n",
    "    Medianfel_SEK=('error', np.median),\n",
    "    Medelfel_SEK=('error', np.mean),\n",
    "    Medianfel_procent=('error_percent', np.median),\n",
    "    Medelfel_procent=('error_percent', np.mean)\n",
    ")"
   ]
  },
  {
   "cell_type": "markdown",
   "metadata": {},
   "source": [
    "Nedan följer en tabell som visar värderingsfelet för annonser innehållande bergvärme."
   ]
  },
  {
   "cell_type": "code",
   "execution_count": 15,
   "metadata": {},
   "outputs": [
    {
     "data": {
      "text/html": [
       "<div>\n",
       "<style scoped>\n",
       "    .dataframe tbody tr th:only-of-type {\n",
       "        vertical-align: middle;\n",
       "    }\n",
       "\n",
       "    .dataframe tbody tr th {\n",
       "        vertical-align: top;\n",
       "    }\n",
       "\n",
       "    .dataframe thead th {\n",
       "        text-align: right;\n",
       "    }\n",
       "</style>\n",
       "<table border=\"1\" class=\"dataframe\">\n",
       "  <thead>\n",
       "    <tr style=\"text-align: right;\">\n",
       "      <th></th>\n",
       "      <th>Antal</th>\n",
       "      <th>Medianfel_SEK</th>\n",
       "      <th>Medelfel_SEK</th>\n",
       "      <th>Medianfel_procent</th>\n",
       "      <th>Medelfel_procent</th>\n",
       "    </tr>\n",
       "    <tr>\n",
       "      <th>bergvarme</th>\n",
       "      <th></th>\n",
       "      <th></th>\n",
       "      <th></th>\n",
       "      <th></th>\n",
       "      <th></th>\n",
       "    </tr>\n",
       "  </thead>\n",
       "  <tbody>\n",
       "    <tr>\n",
       "      <th>False</th>\n",
       "      <td>25845.0</td>\n",
       "      <td>-23898.0</td>\n",
       "      <td>-49610.263842</td>\n",
       "      <td>-0.008880</td>\n",
       "      <td>0.010919</td>\n",
       "    </tr>\n",
       "    <tr>\n",
       "      <th>True</th>\n",
       "      <td>1819.0</td>\n",
       "      <td>-145405.0</td>\n",
       "      <td>-169726.412314</td>\n",
       "      <td>-0.057568</td>\n",
       "      <td>-0.040044</td>\n",
       "    </tr>\n",
       "  </tbody>\n",
       "</table>\n",
       "</div>"
      ],
      "text/plain": [
       "             Antal  Medianfel_SEK   Medelfel_SEK  Medianfel_procent  \\\n",
       "bergvarme                                                             \n",
       "False      25845.0       -23898.0  -49610.263842          -0.008880   \n",
       "True        1819.0      -145405.0 -169726.412314          -0.057568   \n",
       "\n",
       "           Medelfel_procent  \n",
       "bergvarme                    \n",
       "False              0.010919  \n",
       "True              -0.040044  "
      ]
     },
     "execution_count": 15,
     "metadata": {},
     "output_type": "execute_result"
    }
   ],
   "source": [
    "filtered.groupby('bergvarme').agg(\n",
    "    Antal=('error', len),\n",
    "    Medianfel_SEK=('error', np.median),\n",
    "    Medelfel_SEK=('error', np.mean),\n",
    "    Medianfel_procent=('error_percent', np.median),\n",
    "    Medelfel_procent=('error_percent', np.mean)\n",
    ")"
   ]
  },
  {
   "cell_type": "markdown",
   "metadata": {},
   "source": [
    "Nedan följer en tabell som visar värderingsfelet för annonser innehållande solceller och bergvärme."
   ]
  },
  {
   "cell_type": "code",
   "execution_count": 16,
   "metadata": {},
   "outputs": [
    {
     "data": {
      "text/html": [
       "<div>\n",
       "<style scoped>\n",
       "    .dataframe tbody tr th:only-of-type {\n",
       "        vertical-align: middle;\n",
       "    }\n",
       "\n",
       "    .dataframe tbody tr th {\n",
       "        vertical-align: top;\n",
       "    }\n",
       "\n",
       "    .dataframe thead th {\n",
       "        text-align: right;\n",
       "    }\n",
       "</style>\n",
       "<table border=\"1\" class=\"dataframe\">\n",
       "  <thead>\n",
       "    <tr style=\"text-align: right;\">\n",
       "      <th></th>\n",
       "      <th>Antal</th>\n",
       "      <th>Medianfel_SEK</th>\n",
       "      <th>Medelfel_SEK</th>\n",
       "      <th>Medianfel_procent</th>\n",
       "      <th>Medelfel_procent</th>\n",
       "    </tr>\n",
       "    <tr>\n",
       "      <th>sol_berg</th>\n",
       "      <th></th>\n",
       "      <th></th>\n",
       "      <th></th>\n",
       "      <th></th>\n",
       "      <th></th>\n",
       "    </tr>\n",
       "  </thead>\n",
       "  <tbody>\n",
       "    <tr>\n",
       "      <th>0</th>\n",
       "      <td>27659.0</td>\n",
       "      <td>-30259.0</td>\n",
       "      <td>-57425.334936</td>\n",
       "      <td>-0.011681</td>\n",
       "      <td>0.007587</td>\n",
       "    </tr>\n",
       "    <tr>\n",
       "      <th>1</th>\n",
       "      <td>5.0</td>\n",
       "      <td>-520944.0</td>\n",
       "      <td>-516454.800000</td>\n",
       "      <td>-0.083492</td>\n",
       "      <td>-0.096823</td>\n",
       "    </tr>\n",
       "  </tbody>\n",
       "</table>\n",
       "</div>"
      ],
      "text/plain": [
       "            Antal  Medianfel_SEK   Medelfel_SEK  Medianfel_procent  \\\n",
       "sol_berg                                                             \n",
       "0         27659.0       -30259.0  -57425.334936          -0.011681   \n",
       "1             5.0      -520944.0 -516454.800000          -0.083492   \n",
       "\n",
       "          Medelfel_procent  \n",
       "sol_berg                    \n",
       "0                 0.007587  \n",
       "1                -0.096823  "
      ]
     },
     "execution_count": 16,
     "metadata": {},
     "output_type": "execute_result"
    }
   ],
   "source": [
    "filtered.groupby('sol_berg').agg(\n",
    "    Antal=('error', len),\n",
    "    Medianfel_SEK=('error', np.median),\n",
    "    Medelfel_SEK=('error', np.mean),\n",
    "    Medianfel_procent=('error_percent', np.median),\n",
    "    Medelfel_procent=('error_percent', np.mean)\n",
    ")"
   ]
  },
  {
   "cell_type": "markdown",
   "metadata": {},
   "source": [
    "Nedan följer en tabell som visar värderingsfelet för annonser innehållande solceller men inte bergvärme."
   ]
  },
  {
   "cell_type": "code",
   "execution_count": 17,
   "metadata": {},
   "outputs": [
    {
     "data": {
      "text/html": [
       "<div>\n",
       "<style scoped>\n",
       "    .dataframe tbody tr th:only-of-type {\n",
       "        vertical-align: middle;\n",
       "    }\n",
       "\n",
       "    .dataframe tbody tr th {\n",
       "        vertical-align: top;\n",
       "    }\n",
       "\n",
       "    .dataframe thead th {\n",
       "        text-align: right;\n",
       "    }\n",
       "</style>\n",
       "<table border=\"1\" class=\"dataframe\">\n",
       "  <thead>\n",
       "    <tr style=\"text-align: right;\">\n",
       "      <th></th>\n",
       "      <th>Antal</th>\n",
       "      <th>Medianfel_SEK</th>\n",
       "      <th>Medelfel_SEK</th>\n",
       "      <th>Medianfel_procent</th>\n",
       "      <th>Medelfel_procent</th>\n",
       "    </tr>\n",
       "    <tr>\n",
       "      <th>sol_not_berg</th>\n",
       "      <th></th>\n",
       "      <th></th>\n",
       "      <th></th>\n",
       "      <th></th>\n",
       "      <th></th>\n",
       "    </tr>\n",
       "  </thead>\n",
       "  <tbody>\n",
       "    <tr>\n",
       "      <th>0</th>\n",
       "      <td>27632.0</td>\n",
       "      <td>-30101.0</td>\n",
       "      <td>-57232.97796</td>\n",
       "      <td>-0.011626</td>\n",
       "      <td>0.007622</td>\n",
       "    </tr>\n",
       "    <tr>\n",
       "      <th>1</th>\n",
       "      <td>32.0</td>\n",
       "      <td>-322425.5</td>\n",
       "      <td>-295248.93750</td>\n",
       "      <td>-0.085456</td>\n",
       "      <td>-0.039256</td>\n",
       "    </tr>\n",
       "  </tbody>\n",
       "</table>\n",
       "</div>"
      ],
      "text/plain": [
       "                Antal  Medianfel_SEK  Medelfel_SEK  Medianfel_procent  \\\n",
       "sol_not_berg                                                            \n",
       "0             27632.0       -30101.0  -57232.97796          -0.011626   \n",
       "1                32.0      -322425.5 -295248.93750          -0.085456   \n",
       "\n",
       "              Medelfel_procent  \n",
       "sol_not_berg                    \n",
       "0                     0.007622  \n",
       "1                    -0.039256  "
      ]
     },
     "execution_count": 17,
     "metadata": {},
     "output_type": "execute_result"
    }
   ],
   "source": [
    "filtered.groupby('sol_not_berg').agg(\n",
    "    Antal=('error', len),\n",
    "    Medianfel_SEK=('error', np.median),\n",
    "    Medelfel_SEK=('error', np.mean),\n",
    "    Medianfel_procent=('error_percent', np.median),\n",
    "    Medelfel_procent=('error_percent', np.mean)\n",
    ")"
   ]
  },
  {
   "cell_type": "code",
   "execution_count": 26,
   "metadata": {},
   "outputs": [
    {
     "data": {
      "text/plain": [
       "Ttest_indResult(statistic=-1.6307664347632786, pvalue=0.10295099694121494)"
      ]
     },
     "metadata": {},
     "output_type": "display_data"
    }
   ],
   "source": [
    "from scipy.stats import ttest_ind\n",
    "\n",
    "with_solar = filtered[filtered['solceller'] == True]\n",
    "without_solar = filtered[filtered['solceller'] == False]\n",
    "display(ttest_ind(with_solar['error_percent'], without_solar['error_percent']))\n"
   ]
  },
  {
   "cell_type": "markdown",
   "metadata": {},
   "source": [
    "Ett t-test ger ett p-värde på ca 0.1. Det är inte ett signifikant p-värde och beror förmodligen på obalansen mellan datasetens storlekar. P-värdet borde rimligtvis minska något med ett större underlag av sålda fastigheter med solceller.  "
   ]
  },
  {
   "cell_type": "markdown",
   "metadata": {},
   "source": [
    "## Slutsats och kommentar"
   ]
  },
  {
   "cell_type": "markdown",
   "metadata": {},
   "source": [
    "### Slutsats: Solceller är värdehöjande."
   ]
  },
  {
   "cell_type": "markdown",
   "metadata": {},
   "source": [
    "En jämförelse av alla försäljningar i landet visar att solceller är värt ca 320 000 SEK. \n",
    "Vi kan se att förekomsten av solceller korrelerar med en förhållandevis stor negativ avvikelse från medelfelet för hela populationen. D.v.s. vi värderar hus med solceller för lågt, vilket kan tolkas som att solceller är värdehöjande. Antalet observationer ska tas i beaktande då uttalande kring specifik värdeökning i kronor görs. Man kan dock, ganska betryggande, påstå att solceller är värdehöjande för en fastighet. En möjlig väg att gå för att få tillgång till mer omfattande underlag är att få data förmedlat via regionnätsägarna, exempelvis Vattenfall, då de har information om anslutna solcellsanläggningar inom deras regionnätsområden. Något de idag förmedlar till energimyndigheten och som sedan används för att sammanställa antalet installerade solcellsanläggningar nationellt.  \n",
    "Vidare så visar en jämförelse av alla försäljningar i landet, då bergvärme funnits i objektsbeskrivningen, att bergvärme är värt ca 150 000 SEK. Det stämmer bra överens med den analys som tidigare gjorts gällande värdet av installerad bergvärme. Den analysen är genomförd med mer omfattande data. Se länk: https://jobb.booli.se/blog/posts/19601-hur-paverkar-bergvarme-vardet-pa-ett-hus\n",
    "De överensstämmande resultaten, gällande bergvärme, styrker trovärdigheten i denna analys och visar att tillfredställande underlag kan urskiljas med hjälp av en regex-filtrering på annonsbeskrivningar. \n",
    "\n",
    "Vidare visar denna analys att objektsbeskrivningar innehållande både solceller och bergvärme har ett värde på 520 000. Detta motsvarar en kombination av det individuella värdet för solceller och bergvärme, vilket är rimligt.  Denna summa är baserad på endast 5 observationer vilket bör tas i beaktande då uttalanden om ett specifikt värde görs.  "
   ]
  }
 ],
 "metadata": {
  "kernelspec": {
   "display_name": "Python 3",
   "language": "python",
   "name": "python3"
  },
  "language_info": {
   "codemirror_mode": {
    "name": "ipython",
    "version": 3
   },
   "file_extension": ".py",
   "mimetype": "text/x-python",
   "name": "python",
   "nbconvert_exporter": "python",
   "pygments_lexer": "ipython3",
   "version": "3.6.5"
  }
 },
 "nbformat": 4,
 "nbformat_minor": 4
}
